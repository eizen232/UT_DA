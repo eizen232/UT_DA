{
 "cells": [
  {
   "cell_type": "markdown",
   "metadata": {},
   "source": [
    "# Credit One Data (Loan Default) - Classification (using RFE)\n",
    "1. This data analysis uses **classification** on a preprocessed, cleansed and feature selected (using RFE).\n",
    "2. A 70 and 30 split on the data were used for training and testing sets, respectively.\n",
    "3. Models used - **Decision Tree**, **Random Forest**, **SVC** and **KNN** - Optimal algorithm chosen."
   ]
  },
  {
   "cell_type": "code",
   "execution_count": 1,
   "metadata": {
    "collapsed": true
   },
   "outputs": [],
   "source": [
    "import warnings\n",
    "warnings.filterwarnings('ignore')                # ignore warning (place prior to importing pandas)\n",
    "warnings.simplefilter ('ignore')\n",
    "import seaborn as sns\n",
    "import pandas as pd\n",
    "credit = pd.read_csv('CreditOne_Clean_2.csv', header = 0) "
   ]
  },
  {
   "cell_type": "code",
   "execution_count": 3,
   "metadata": {
    "collapsed": false
   },
   "outputs": [],
   "source": [
    "import numpy as np\n",
    "import scipy\n",
    "from math import sqrt\n",
    "import matplotlib.pyplot as plt\n",
    "# The line below is for the plots to show (i.e. not in a separate window)\n",
    "%matplotlib inline \n",
    "import time\n",
    "\n",
    "from sklearn.feature_selection import RFE       # feature selection/engineering\n",
    "\n",
    "from sklearn.preprocessing import MinMaxScaler  # scale data to speed up SVM fit \n",
    "\n",
    "# Estimators\n",
    "from sklearn import tree\n",
    "from sklearn.svm import SVC\n",
    "from sklearn.ensemble import RandomForestClassifier\n",
    "from sklearn.neighbors import KNeighborsClassifier\n",
    "\n",
    "# Model Metrics\n",
    "'''\n",
    "from sklearn.metrics import mean_squared_error\n",
    "from sklearn.metrics import r2_score\n",
    "'''\n",
    "from sklearn.model_selection import cross_val_score\n",
    "\n",
    "from sklearn.metrics import classification_report, confusion_matrix\n",
    "\n",
    "# Cross validation\n",
    "from sklearn.cross_validation import train_test_split"
   ]
  },
  {
   "cell_type": "code",
   "execution_count": 4,
   "metadata": {
    "collapsed": false
   },
   "outputs": [
    {
     "name": "stdout",
     "output_type": "stream",
     "text": [
      "<class 'pandas.core.frame.DataFrame'>\n",
      "RangeIndex: 30000 entries, 0 to 29999\n",
      "Data columns (total 97 columns):\n",
      "LIMIT_BAL                     30000 non-null int64\n",
      "AGE                           30000 non-null int64\n",
      "BILL_AMT1                     30000 non-null int64\n",
      "BILL_AMT3                     30000 non-null int64\n",
      "BILL_AMT6                     30000 non-null int64\n",
      "PAY_AMT1                      30000 non-null int64\n",
      "PAY_AMT2                      30000 non-null int64\n",
      "PAY_AMT3                      30000 non-null int64\n",
      "PAY_AMT4                      30000 non-null int64\n",
      "PAY_AMT5                      30000 non-null int64\n",
      "PAY_AMT6                      30000 non-null int64\n",
      "default payment next month    30000 non-null int64\n",
      "SEX_1                         30000 non-null float64\n",
      "SEX_2                         30000 non-null float64\n",
      "EDUCATION_0                   30000 non-null float64\n",
      "EDUCATION_1                   30000 non-null float64\n",
      "EDUCATION_2                   30000 non-null float64\n",
      "EDUCATION_3                   30000 non-null float64\n",
      "EDUCATION_4                   30000 non-null float64\n",
      "EDUCATION_5                   30000 non-null float64\n",
      "EDUCATION_6                   30000 non-null float64\n",
      "MARRIAGE_0                    30000 non-null float64\n",
      "MARRIAGE_1                    30000 non-null float64\n",
      "MARRIAGE_2                    30000 non-null float64\n",
      "MARRIAGE_3                    30000 non-null float64\n",
      "age_encode_0                  30000 non-null float64\n",
      "age_encode_1                  30000 non-null float64\n",
      "age_encode_2                  30000 non-null float64\n",
      "age_encode_3                  30000 non-null float64\n",
      "loan_encode_0                 30000 non-null float64\n",
      "loan_encode_1                 30000 non-null float64\n",
      "loan_encode_2                 30000 non-null float64\n",
      "loan_encode_3                 30000 non-null float64\n",
      "loan_encode_4                 30000 non-null float64\n",
      "PAY_0_-2                      30000 non-null float64\n",
      "PAY_0_-1                      30000 non-null float64\n",
      "PAY_0_0                       30000 non-null float64\n",
      "PAY_0_1                       30000 non-null float64\n",
      "PAY_0_2                       30000 non-null float64\n",
      "PAY_0_3                       30000 non-null float64\n",
      "PAY_0_4                       30000 non-null float64\n",
      "PAY_0_5                       30000 non-null float64\n",
      "PAY_0_6                       30000 non-null float64\n",
      "PAY_0_7                       30000 non-null float64\n",
      "PAY_0_8                       30000 non-null float64\n",
      "PAY_2_-2                      30000 non-null float64\n",
      "PAY_2_-1                      30000 non-null float64\n",
      "PAY_2_0                       30000 non-null float64\n",
      "PAY_2_1                       30000 non-null float64\n",
      "PAY_2_2                       30000 non-null float64\n",
      "PAY_2_3                       30000 non-null float64\n",
      "PAY_2_4                       30000 non-null float64\n",
      "PAY_2_5                       30000 non-null float64\n",
      "PAY_2_6                       30000 non-null float64\n",
      "PAY_2_8                       30000 non-null float64\n",
      "PAY_3_-2                      30000 non-null float64\n",
      "PAY_3_-1                      30000 non-null float64\n",
      "PAY_3_0                       30000 non-null float64\n",
      "PAY_3_1                       30000 non-null float64\n",
      "PAY_3_2                       30000 non-null float64\n",
      "PAY_3_3                       30000 non-null float64\n",
      "PAY_3_4                       30000 non-null float64\n",
      "PAY_3_5                       30000 non-null float64\n",
      "PAY_3_6                       30000 non-null float64\n",
      "PAY_3_7                       30000 non-null float64\n",
      "PAY_3_8                       30000 non-null float64\n",
      "PAY_4_-2                      30000 non-null float64\n",
      "PAY_4_-1                      30000 non-null float64\n",
      "PAY_4_0                       30000 non-null float64\n",
      "PAY_4_1                       30000 non-null float64\n",
      "PAY_4_2                       30000 non-null float64\n",
      "PAY_4_3                       30000 non-null float64\n",
      "PAY_4_4                       30000 non-null float64\n",
      "PAY_4_5                       30000 non-null float64\n",
      "PAY_4_6                       30000 non-null float64\n",
      "PAY_4_7                       30000 non-null float64\n",
      "PAY_4_8                       30000 non-null float64\n",
      "PAY_5_-2                      30000 non-null float64\n",
      "PAY_5_-1                      30000 non-null float64\n",
      "PAY_5_0                       30000 non-null float64\n",
      "PAY_5_2                       30000 non-null float64\n",
      "PAY_5_3                       30000 non-null float64\n",
      "PAY_5_4                       30000 non-null float64\n",
      "PAY_5_5                       30000 non-null float64\n",
      "PAY_5_6                       30000 non-null float64\n",
      "PAY_5_7                       30000 non-null float64\n",
      "PAY_5_8                       30000 non-null float64\n",
      "PAY_6_-2                      30000 non-null float64\n",
      "PAY_6_-1                      30000 non-null float64\n",
      "PAY_6_0                       30000 non-null float64\n",
      "PAY_6_2                       30000 non-null float64\n",
      "PAY_6_3                       30000 non-null float64\n",
      "PAY_6_4                       30000 non-null float64\n",
      "PAY_6_5                       30000 non-null float64\n",
      "PAY_6_6                       30000 non-null float64\n",
      "PAY_6_7                       30000 non-null float64\n",
      "PAY_6_8                       30000 non-null float64\n",
      "dtypes: float64(85), int64(12)\n",
      "memory usage: 22.2 MB\n"
     ]
    },
    {
     "data": {
      "text/html": [
       "<div>\n",
       "<table border=\"1\" class=\"dataframe\">\n",
       "  <thead>\n",
       "    <tr style=\"text-align: right;\">\n",
       "      <th></th>\n",
       "      <th>LIMIT_BAL</th>\n",
       "      <th>AGE</th>\n",
       "      <th>BILL_AMT1</th>\n",
       "      <th>BILL_AMT3</th>\n",
       "      <th>BILL_AMT6</th>\n",
       "      <th>PAY_AMT1</th>\n",
       "      <th>PAY_AMT2</th>\n",
       "      <th>PAY_AMT3</th>\n",
       "      <th>PAY_AMT4</th>\n",
       "      <th>PAY_AMT5</th>\n",
       "      <th>...</th>\n",
       "      <th>PAY_6_-2</th>\n",
       "      <th>PAY_6_-1</th>\n",
       "      <th>PAY_6_0</th>\n",
       "      <th>PAY_6_2</th>\n",
       "      <th>PAY_6_3</th>\n",
       "      <th>PAY_6_4</th>\n",
       "      <th>PAY_6_5</th>\n",
       "      <th>PAY_6_6</th>\n",
       "      <th>PAY_6_7</th>\n",
       "      <th>PAY_6_8</th>\n",
       "    </tr>\n",
       "  </thead>\n",
       "  <tbody>\n",
       "    <tr>\n",
       "      <th>0</th>\n",
       "      <td>20000</td>\n",
       "      <td>24</td>\n",
       "      <td>3913</td>\n",
       "      <td>689</td>\n",
       "      <td>0</td>\n",
       "      <td>0</td>\n",
       "      <td>689</td>\n",
       "      <td>0</td>\n",
       "      <td>0</td>\n",
       "      <td>0</td>\n",
       "      <td>...</td>\n",
       "      <td>1.0</td>\n",
       "      <td>0.0</td>\n",
       "      <td>0.0</td>\n",
       "      <td>0.0</td>\n",
       "      <td>0.0</td>\n",
       "      <td>0.0</td>\n",
       "      <td>0.0</td>\n",
       "      <td>0.0</td>\n",
       "      <td>0.0</td>\n",
       "      <td>0.0</td>\n",
       "    </tr>\n",
       "    <tr>\n",
       "      <th>1</th>\n",
       "      <td>120000</td>\n",
       "      <td>26</td>\n",
       "      <td>2682</td>\n",
       "      <td>2682</td>\n",
       "      <td>3261</td>\n",
       "      <td>0</td>\n",
       "      <td>1000</td>\n",
       "      <td>1000</td>\n",
       "      <td>1000</td>\n",
       "      <td>0</td>\n",
       "      <td>...</td>\n",
       "      <td>0.0</td>\n",
       "      <td>0.0</td>\n",
       "      <td>0.0</td>\n",
       "      <td>1.0</td>\n",
       "      <td>0.0</td>\n",
       "      <td>0.0</td>\n",
       "      <td>0.0</td>\n",
       "      <td>0.0</td>\n",
       "      <td>0.0</td>\n",
       "      <td>0.0</td>\n",
       "    </tr>\n",
       "    <tr>\n",
       "      <th>2</th>\n",
       "      <td>90000</td>\n",
       "      <td>34</td>\n",
       "      <td>29239</td>\n",
       "      <td>13559</td>\n",
       "      <td>15549</td>\n",
       "      <td>1518</td>\n",
       "      <td>1500</td>\n",
       "      <td>1000</td>\n",
       "      <td>1000</td>\n",
       "      <td>1000</td>\n",
       "      <td>...</td>\n",
       "      <td>0.0</td>\n",
       "      <td>0.0</td>\n",
       "      <td>1.0</td>\n",
       "      <td>0.0</td>\n",
       "      <td>0.0</td>\n",
       "      <td>0.0</td>\n",
       "      <td>0.0</td>\n",
       "      <td>0.0</td>\n",
       "      <td>0.0</td>\n",
       "      <td>0.0</td>\n",
       "    </tr>\n",
       "    <tr>\n",
       "      <th>3</th>\n",
       "      <td>50000</td>\n",
       "      <td>37</td>\n",
       "      <td>46990</td>\n",
       "      <td>49291</td>\n",
       "      <td>29547</td>\n",
       "      <td>2000</td>\n",
       "      <td>2019</td>\n",
       "      <td>1200</td>\n",
       "      <td>1100</td>\n",
       "      <td>1069</td>\n",
       "      <td>...</td>\n",
       "      <td>0.0</td>\n",
       "      <td>0.0</td>\n",
       "      <td>1.0</td>\n",
       "      <td>0.0</td>\n",
       "      <td>0.0</td>\n",
       "      <td>0.0</td>\n",
       "      <td>0.0</td>\n",
       "      <td>0.0</td>\n",
       "      <td>0.0</td>\n",
       "      <td>0.0</td>\n",
       "    </tr>\n",
       "    <tr>\n",
       "      <th>4</th>\n",
       "      <td>50000</td>\n",
       "      <td>57</td>\n",
       "      <td>8617</td>\n",
       "      <td>35835</td>\n",
       "      <td>19131</td>\n",
       "      <td>2000</td>\n",
       "      <td>36681</td>\n",
       "      <td>10000</td>\n",
       "      <td>9000</td>\n",
       "      <td>689</td>\n",
       "      <td>...</td>\n",
       "      <td>0.0</td>\n",
       "      <td>0.0</td>\n",
       "      <td>1.0</td>\n",
       "      <td>0.0</td>\n",
       "      <td>0.0</td>\n",
       "      <td>0.0</td>\n",
       "      <td>0.0</td>\n",
       "      <td>0.0</td>\n",
       "      <td>0.0</td>\n",
       "      <td>0.0</td>\n",
       "    </tr>\n",
       "  </tbody>\n",
       "</table>\n",
       "<p>5 rows × 97 columns</p>\n",
       "</div>"
      ],
      "text/plain": [
       "   LIMIT_BAL  AGE  BILL_AMT1  BILL_AMT3  BILL_AMT6  PAY_AMT1  PAY_AMT2  \\\n",
       "0      20000   24       3913        689          0         0       689   \n",
       "1     120000   26       2682       2682       3261         0      1000   \n",
       "2      90000   34      29239      13559      15549      1518      1500   \n",
       "3      50000   37      46990      49291      29547      2000      2019   \n",
       "4      50000   57       8617      35835      19131      2000     36681   \n",
       "\n",
       "   PAY_AMT3  PAY_AMT4  PAY_AMT5   ...     PAY_6_-2  PAY_6_-1  PAY_6_0  \\\n",
       "0         0         0         0   ...          1.0       0.0      0.0   \n",
       "1      1000      1000         0   ...          0.0       0.0      0.0   \n",
       "2      1000      1000      1000   ...          0.0       0.0      1.0   \n",
       "3      1200      1100      1069   ...          0.0       0.0      1.0   \n",
       "4     10000      9000       689   ...          0.0       0.0      1.0   \n",
       "\n",
       "   PAY_6_2  PAY_6_3  PAY_6_4  PAY_6_5  PAY_6_6  PAY_6_7  PAY_6_8  \n",
       "0      0.0      0.0      0.0      0.0      0.0      0.0      0.0  \n",
       "1      1.0      0.0      0.0      0.0      0.0      0.0      0.0  \n",
       "2      0.0      0.0      0.0      0.0      0.0      0.0      0.0  \n",
       "3      0.0      0.0      0.0      0.0      0.0      0.0      0.0  \n",
       "4      0.0      0.0      0.0      0.0      0.0      0.0      0.0  \n",
       "\n",
       "[5 rows x 97 columns]"
      ]
     },
     "execution_count": 4,
     "metadata": {},
     "output_type": "execute_result"
    }
   ],
   "source": [
    "credit.info()\n",
    "credit.head()"
   ]
  },
  {
   "cell_type": "code",
   "execution_count": 5,
   "metadata": {
    "collapsed": false
   },
   "outputs": [
    {
     "name": "stdout",
     "output_type": "stream",
     "text": [
      "Summary of feature sample\n"
     ]
    },
    {
     "data": {
      "text/html": [
       "<div>\n",
       "<table border=\"1\" class=\"dataframe\">\n",
       "  <thead>\n",
       "    <tr style=\"text-align: right;\">\n",
       "      <th></th>\n",
       "      <th>LIMIT_BAL</th>\n",
       "      <th>AGE</th>\n",
       "      <th>BILL_AMT1</th>\n",
       "      <th>BILL_AMT3</th>\n",
       "      <th>BILL_AMT6</th>\n",
       "      <th>PAY_AMT1</th>\n",
       "      <th>PAY_AMT2</th>\n",
       "      <th>PAY_AMT3</th>\n",
       "      <th>PAY_AMT4</th>\n",
       "      <th>PAY_AMT5</th>\n",
       "      <th>...</th>\n",
       "      <th>PAY_5_8</th>\n",
       "      <th>PAY_6_-2</th>\n",
       "      <th>PAY_6_-1</th>\n",
       "      <th>PAY_6_0</th>\n",
       "      <th>PAY_6_2</th>\n",
       "      <th>PAY_6_3</th>\n",
       "      <th>PAY_6_4</th>\n",
       "      <th>PAY_6_5</th>\n",
       "      <th>PAY_6_6</th>\n",
       "      <th>PAY_6_7</th>\n",
       "    </tr>\n",
       "  </thead>\n",
       "  <tbody>\n",
       "    <tr>\n",
       "      <th>0</th>\n",
       "      <td>20000</td>\n",
       "      <td>24</td>\n",
       "      <td>3913</td>\n",
       "      <td>689</td>\n",
       "      <td>0</td>\n",
       "      <td>0</td>\n",
       "      <td>689</td>\n",
       "      <td>0</td>\n",
       "      <td>0</td>\n",
       "      <td>0</td>\n",
       "      <td>...</td>\n",
       "      <td>0.0</td>\n",
       "      <td>1.0</td>\n",
       "      <td>0.0</td>\n",
       "      <td>0.0</td>\n",
       "      <td>0.0</td>\n",
       "      <td>0.0</td>\n",
       "      <td>0.0</td>\n",
       "      <td>0.0</td>\n",
       "      <td>0.0</td>\n",
       "      <td>0.0</td>\n",
       "    </tr>\n",
       "    <tr>\n",
       "      <th>1</th>\n",
       "      <td>120000</td>\n",
       "      <td>26</td>\n",
       "      <td>2682</td>\n",
       "      <td>2682</td>\n",
       "      <td>3261</td>\n",
       "      <td>0</td>\n",
       "      <td>1000</td>\n",
       "      <td>1000</td>\n",
       "      <td>1000</td>\n",
       "      <td>0</td>\n",
       "      <td>...</td>\n",
       "      <td>0.0</td>\n",
       "      <td>0.0</td>\n",
       "      <td>0.0</td>\n",
       "      <td>0.0</td>\n",
       "      <td>1.0</td>\n",
       "      <td>0.0</td>\n",
       "      <td>0.0</td>\n",
       "      <td>0.0</td>\n",
       "      <td>0.0</td>\n",
       "      <td>0.0</td>\n",
       "    </tr>\n",
       "    <tr>\n",
       "      <th>2</th>\n",
       "      <td>90000</td>\n",
       "      <td>34</td>\n",
       "      <td>29239</td>\n",
       "      <td>13559</td>\n",
       "      <td>15549</td>\n",
       "      <td>1518</td>\n",
       "      <td>1500</td>\n",
       "      <td>1000</td>\n",
       "      <td>1000</td>\n",
       "      <td>1000</td>\n",
       "      <td>...</td>\n",
       "      <td>0.0</td>\n",
       "      <td>0.0</td>\n",
       "      <td>0.0</td>\n",
       "      <td>1.0</td>\n",
       "      <td>0.0</td>\n",
       "      <td>0.0</td>\n",
       "      <td>0.0</td>\n",
       "      <td>0.0</td>\n",
       "      <td>0.0</td>\n",
       "      <td>0.0</td>\n",
       "    </tr>\n",
       "    <tr>\n",
       "      <th>3</th>\n",
       "      <td>50000</td>\n",
       "      <td>37</td>\n",
       "      <td>46990</td>\n",
       "      <td>49291</td>\n",
       "      <td>29547</td>\n",
       "      <td>2000</td>\n",
       "      <td>2019</td>\n",
       "      <td>1200</td>\n",
       "      <td>1100</td>\n",
       "      <td>1069</td>\n",
       "      <td>...</td>\n",
       "      <td>0.0</td>\n",
       "      <td>0.0</td>\n",
       "      <td>0.0</td>\n",
       "      <td>1.0</td>\n",
       "      <td>0.0</td>\n",
       "      <td>0.0</td>\n",
       "      <td>0.0</td>\n",
       "      <td>0.0</td>\n",
       "      <td>0.0</td>\n",
       "      <td>0.0</td>\n",
       "    </tr>\n",
       "    <tr>\n",
       "      <th>4</th>\n",
       "      <td>50000</td>\n",
       "      <td>57</td>\n",
       "      <td>8617</td>\n",
       "      <td>35835</td>\n",
       "      <td>19131</td>\n",
       "      <td>2000</td>\n",
       "      <td>36681</td>\n",
       "      <td>10000</td>\n",
       "      <td>9000</td>\n",
       "      <td>689</td>\n",
       "      <td>...</td>\n",
       "      <td>0.0</td>\n",
       "      <td>0.0</td>\n",
       "      <td>0.0</td>\n",
       "      <td>1.0</td>\n",
       "      <td>0.0</td>\n",
       "      <td>0.0</td>\n",
       "      <td>0.0</td>\n",
       "      <td>0.0</td>\n",
       "      <td>0.0</td>\n",
       "      <td>0.0</td>\n",
       "    </tr>\n",
       "  </tbody>\n",
       "</table>\n",
       "<p>5 rows × 96 columns</p>\n",
       "</div>"
      ],
      "text/plain": [
       "   LIMIT_BAL  AGE  BILL_AMT1  BILL_AMT3  BILL_AMT6  PAY_AMT1  PAY_AMT2  \\\n",
       "0      20000   24       3913        689          0         0       689   \n",
       "1     120000   26       2682       2682       3261         0      1000   \n",
       "2      90000   34      29239      13559      15549      1518      1500   \n",
       "3      50000   37      46990      49291      29547      2000      2019   \n",
       "4      50000   57       8617      35835      19131      2000     36681   \n",
       "\n",
       "   PAY_AMT3  PAY_AMT4  PAY_AMT5   ...     PAY_5_8  PAY_6_-2  PAY_6_-1  \\\n",
       "0         0         0         0   ...         0.0       1.0       0.0   \n",
       "1      1000      1000         0   ...         0.0       0.0       0.0   \n",
       "2      1000      1000      1000   ...         0.0       0.0       0.0   \n",
       "3      1200      1100      1069   ...         0.0       0.0       0.0   \n",
       "4     10000      9000       689   ...         0.0       0.0       0.0   \n",
       "\n",
       "   PAY_6_0  PAY_6_2  PAY_6_3  PAY_6_4  PAY_6_5  PAY_6_6  PAY_6_7  \n",
       "0      0.0      0.0      0.0      0.0      0.0      0.0      0.0  \n",
       "1      0.0      1.0      0.0      0.0      0.0      0.0      0.0  \n",
       "2      1.0      0.0      0.0      0.0      0.0      0.0      0.0  \n",
       "3      1.0      0.0      0.0      0.0      0.0      0.0      0.0  \n",
       "4      1.0      0.0      0.0      0.0      0.0      0.0      0.0  \n",
       "\n",
       "[5 rows x 96 columns]"
      ]
     },
     "execution_count": 5,
     "metadata": {},
     "output_type": "execute_result"
    }
   ],
   "source": [
    "#features\n",
    "features = credit.iloc[:,0:96]     #choose only the columns that are needed for analysis (first two columns ommitted due to discretization)\n",
    "print('Summary of feature sample')\n",
    "features.head()"
   ]
  },
  {
   "cell_type": "code",
   "execution_count": 6,
   "metadata": {
    "collapsed": false
   },
   "outputs": [],
   "source": [
    "#dependent variable\n",
    "depVar = credit['default payment next month']  # choose a column that is in a classification/dummy variable datatype (ex.default payment next month )"
   ]
  },
  {
   "cell_type": "code",
   "execution_count": 7,
   "metadata": {
    "collapsed": false
   },
   "outputs": [
    {
     "data": {
      "text/html": [
       "<div>\n",
       "<table border=\"1\" class=\"dataframe\">\n",
       "  <thead>\n",
       "    <tr style=\"text-align: right;\">\n",
       "      <th></th>\n",
       "      <th>LIMIT_BAL</th>\n",
       "      <th>AGE</th>\n",
       "      <th>BILL_AMT1</th>\n",
       "      <th>BILL_AMT3</th>\n",
       "      <th>BILL_AMT6</th>\n",
       "      <th>PAY_AMT1</th>\n",
       "      <th>PAY_AMT2</th>\n",
       "      <th>PAY_AMT3</th>\n",
       "      <th>PAY_AMT4</th>\n",
       "      <th>PAY_AMT5</th>\n",
       "      <th>...</th>\n",
       "      <th>PAY_5_8</th>\n",
       "      <th>PAY_6_-2</th>\n",
       "      <th>PAY_6_-1</th>\n",
       "      <th>PAY_6_0</th>\n",
       "      <th>PAY_6_2</th>\n",
       "      <th>PAY_6_3</th>\n",
       "      <th>PAY_6_4</th>\n",
       "      <th>PAY_6_5</th>\n",
       "      <th>PAY_6_6</th>\n",
       "      <th>PAY_6_7</th>\n",
       "    </tr>\n",
       "  </thead>\n",
       "  <tbody>\n",
       "    <tr>\n",
       "      <th>29995</th>\n",
       "      <td>220000</td>\n",
       "      <td>39</td>\n",
       "      <td>188948</td>\n",
       "      <td>208365</td>\n",
       "      <td>15980</td>\n",
       "      <td>8500</td>\n",
       "      <td>20000</td>\n",
       "      <td>5003</td>\n",
       "      <td>3047</td>\n",
       "      <td>5000</td>\n",
       "      <td>...</td>\n",
       "      <td>0.0</td>\n",
       "      <td>0.0</td>\n",
       "      <td>0.0</td>\n",
       "      <td>1.0</td>\n",
       "      <td>0.0</td>\n",
       "      <td>0.0</td>\n",
       "      <td>0.0</td>\n",
       "      <td>0.0</td>\n",
       "      <td>0.0</td>\n",
       "      <td>0.0</td>\n",
       "    </tr>\n",
       "    <tr>\n",
       "      <th>29996</th>\n",
       "      <td>150000</td>\n",
       "      <td>43</td>\n",
       "      <td>1683</td>\n",
       "      <td>3502</td>\n",
       "      <td>0</td>\n",
       "      <td>1837</td>\n",
       "      <td>3526</td>\n",
       "      <td>8998</td>\n",
       "      <td>129</td>\n",
       "      <td>0</td>\n",
       "      <td>...</td>\n",
       "      <td>0.0</td>\n",
       "      <td>0.0</td>\n",
       "      <td>0.0</td>\n",
       "      <td>1.0</td>\n",
       "      <td>0.0</td>\n",
       "      <td>0.0</td>\n",
       "      <td>0.0</td>\n",
       "      <td>0.0</td>\n",
       "      <td>0.0</td>\n",
       "      <td>0.0</td>\n",
       "    </tr>\n",
       "    <tr>\n",
       "      <th>29997</th>\n",
       "      <td>30000</td>\n",
       "      <td>37</td>\n",
       "      <td>3565</td>\n",
       "      <td>2758</td>\n",
       "      <td>19357</td>\n",
       "      <td>0</td>\n",
       "      <td>0</td>\n",
       "      <td>22000</td>\n",
       "      <td>4200</td>\n",
       "      <td>2000</td>\n",
       "      <td>...</td>\n",
       "      <td>0.0</td>\n",
       "      <td>0.0</td>\n",
       "      <td>0.0</td>\n",
       "      <td>1.0</td>\n",
       "      <td>0.0</td>\n",
       "      <td>0.0</td>\n",
       "      <td>0.0</td>\n",
       "      <td>0.0</td>\n",
       "      <td>0.0</td>\n",
       "      <td>0.0</td>\n",
       "    </tr>\n",
       "    <tr>\n",
       "      <th>29998</th>\n",
       "      <td>80000</td>\n",
       "      <td>41</td>\n",
       "      <td>-1645</td>\n",
       "      <td>76304</td>\n",
       "      <td>48944</td>\n",
       "      <td>85900</td>\n",
       "      <td>3409</td>\n",
       "      <td>1178</td>\n",
       "      <td>1926</td>\n",
       "      <td>52964</td>\n",
       "      <td>...</td>\n",
       "      <td>0.0</td>\n",
       "      <td>0.0</td>\n",
       "      <td>1.0</td>\n",
       "      <td>0.0</td>\n",
       "      <td>0.0</td>\n",
       "      <td>0.0</td>\n",
       "      <td>0.0</td>\n",
       "      <td>0.0</td>\n",
       "      <td>0.0</td>\n",
       "      <td>0.0</td>\n",
       "    </tr>\n",
       "    <tr>\n",
       "      <th>29999</th>\n",
       "      <td>50000</td>\n",
       "      <td>46</td>\n",
       "      <td>47929</td>\n",
       "      <td>49764</td>\n",
       "      <td>15313</td>\n",
       "      <td>2078</td>\n",
       "      <td>1800</td>\n",
       "      <td>1430</td>\n",
       "      <td>1000</td>\n",
       "      <td>1000</td>\n",
       "      <td>...</td>\n",
       "      <td>0.0</td>\n",
       "      <td>0.0</td>\n",
       "      <td>0.0</td>\n",
       "      <td>1.0</td>\n",
       "      <td>0.0</td>\n",
       "      <td>0.0</td>\n",
       "      <td>0.0</td>\n",
       "      <td>0.0</td>\n",
       "      <td>0.0</td>\n",
       "      <td>0.0</td>\n",
       "    </tr>\n",
       "  </tbody>\n",
       "</table>\n",
       "<p>5 rows × 96 columns</p>\n",
       "</div>"
      ],
      "text/plain": [
       "       LIMIT_BAL  AGE  BILL_AMT1  BILL_AMT3  BILL_AMT6  PAY_AMT1  PAY_AMT2  \\\n",
       "29995     220000   39     188948     208365      15980      8500     20000   \n",
       "29996     150000   43       1683       3502          0      1837      3526   \n",
       "29997      30000   37       3565       2758      19357         0         0   \n",
       "29998      80000   41      -1645      76304      48944     85900      3409   \n",
       "29999      50000   46      47929      49764      15313      2078      1800   \n",
       "\n",
       "       PAY_AMT3  PAY_AMT4  PAY_AMT5   ...     PAY_5_8  PAY_6_-2  PAY_6_-1  \\\n",
       "29995      5003      3047      5000   ...         0.0       0.0       0.0   \n",
       "29996      8998       129         0   ...         0.0       0.0       0.0   \n",
       "29997     22000      4200      2000   ...         0.0       0.0       0.0   \n",
       "29998      1178      1926     52964   ...         0.0       0.0       1.0   \n",
       "29999      1430      1000      1000   ...         0.0       0.0       0.0   \n",
       "\n",
       "       PAY_6_0  PAY_6_2  PAY_6_3  PAY_6_4  PAY_6_5  PAY_6_6  PAY_6_7  \n",
       "29995      1.0      0.0      0.0      0.0      0.0      0.0      0.0  \n",
       "29996      1.0      0.0      0.0      0.0      0.0      0.0      0.0  \n",
       "29997      1.0      0.0      0.0      0.0      0.0      0.0      0.0  \n",
       "29998      0.0      0.0      0.0      0.0      0.0      0.0      0.0  \n",
       "29999      1.0      0.0      0.0      0.0      0.0      0.0      0.0  \n",
       "\n",
       "[5 rows x 96 columns]"
      ]
     },
     "execution_count": 7,
     "metadata": {},
     "output_type": "execute_result"
    }
   ],
   "source": [
    "#Training Set (Feature Space: X Training)\n",
    "X_train = (features[: 30000])                    # include all rows of dataset       \n",
    "X_train.tail()"
   ]
  },
  {
   "cell_type": "code",
   "execution_count": 8,
   "metadata": {
    "collapsed": false
   },
   "outputs": [
    {
     "name": "stdout",
     "output_type": "stream",
     "text": [
      "The number of observations in the Y training set are: 30000\n"
     ]
    },
    {
     "data": {
      "text/plain": [
       "0    1\n",
       "1    1\n",
       "2    0\n",
       "3    0\n",
       "4    0\n",
       "Name: default payment next month, dtype: int64"
      ]
     },
     "execution_count": 8,
     "metadata": {},
     "output_type": "execute_result"
    }
   ],
   "source": [
    "#Dependent Variable Training Set (y Training)\n",
    "y_train = depVar[: 30000]                                 # include all rows of dataset\n",
    "y_train_count = len(y_train.index)\n",
    "print('The number of observations in the Y training set are:',str(y_train_count))\n",
    "y_train.head()    "
   ]
  },
  {
   "cell_type": "code",
   "execution_count": 9,
   "metadata": {
    "collapsed": false
   },
   "outputs": [
    {
     "name": "stdout",
     "output_type": "stream",
     "text": [
      "The number of observations in the feature testing set is: 100\n",
      "       LIMIT_BAL  AGE  BILL_AMT1  BILL_AMT3  BILL_AMT6  PAY_AMT1  PAY_AMT2  \\\n",
      "29900      20000   29      16809          0          0         0         0   \n",
      "29901      50000   29      50845     103486      49387         0      6556   \n",
      "29902     170000   30      10392     168955     124746    168096      6409   \n",
      "29903     260000   30      27378      13333     172104     10018     13333   \n",
      "29904      60000   30      54952      54126      59728      2600      4553   \n",
      "\n",
      "       PAY_AMT3  PAY_AMT4  PAY_AMT5   ...     PAY_5_8  PAY_6_-2  PAY_6_-1  \\\n",
      "29900         0         0         0   ...         0.0       1.0       0.0   \n",
      "29901      3250      1563      1208   ...         0.0       0.0       0.0   \n",
      "29902      7335      4448      4519   ...         0.0       0.0       0.0   \n",
      "29903        99        99    172104   ...         0.0       0.0       1.0   \n",
      "29904      5800      2000      1000   ...         0.0       0.0       0.0   \n",
      "\n",
      "       PAY_6_0  PAY_6_2  PAY_6_3  PAY_6_4  PAY_6_5  PAY_6_6  PAY_6_7  \n",
      "29900      0.0      0.0      0.0      0.0      0.0      0.0      0.0  \n",
      "29901      1.0      0.0      0.0      0.0      0.0      0.0      0.0  \n",
      "29902      1.0      0.0      0.0      0.0      0.0      0.0      0.0  \n",
      "29903      0.0      0.0      0.0      0.0      0.0      0.0      0.0  \n",
      "29904      1.0      0.0      0.0      0.0      0.0      0.0      0.0  \n",
      "\n",
      "[5 rows x 96 columns]\n"
     ]
    }
   ],
   "source": [
    "#Testing Set (X Testing)\n",
    "X_test = features[-100:]\n",
    "X_test_count = len(X_test.index)\n",
    "print('The number of observations in the feature testing set is:',str(X_test_count))\n",
    "print(X_test.head())"
   ]
  },
  {
   "cell_type": "code",
   "execution_count": 10,
   "metadata": {
    "collapsed": false
   },
   "outputs": [
    {
     "name": "stdout",
     "output_type": "stream",
     "text": [
      "The number of observations in the Y training set are: 100\n"
     ]
    },
    {
     "data": {
      "text/plain": [
       "29900    1\n",
       "29901    0\n",
       "29902    0\n",
       "29903    0\n",
       "29904    1\n",
       "Name: default payment next month, dtype: int64"
      ]
     },
     "execution_count": 10,
     "metadata": {},
     "output_type": "execute_result"
    }
   ],
   "source": [
    "#Ground Truth (y_test) \n",
    "y_test = depVar[-100:]\n",
    "y_test_count = len(y_test.index)\n",
    "print('The number of observations in the Y training set are:',str(y_test_count))\n",
    "y_test.head()"
   ]
  },
  {
   "cell_type": "code",
   "execution_count": 11,
   "metadata": {
    "collapsed": true
   },
   "outputs": [],
   "source": [
    "# implement Cross Validation anytime we need to by simply running the following on the X and Y training sets:\n",
    "X_train, X_test, y_train, y_test = train_test_split(X_train, y_train, test_size=0.3, random_state=87)"
   ]
  },
  {
   "cell_type": "code",
   "execution_count": 12,
   "metadata": {
    "collapsed": false
   },
   "outputs": [
    {
     "data": {
      "text/plain": [
       "((21000, 96), (9000, 96))"
      ]
     },
     "execution_count": 12,
     "metadata": {},
     "output_type": "execute_result"
    }
   ],
   "source": [
    "# We can also use the shape function to double check that the split was made as needed:\n",
    "\n",
    "X_train.shape, X_test.shape"
   ]
  },
  {
   "cell_type": "code",
   "execution_count": 13,
   "metadata": {
    "collapsed": true
   },
   "outputs": [],
   "source": [
    "modelTree = tree.DecisionTreeClassifier(class_weight=None, criterion='gini', max_depth=10,\n",
    "            max_features=None, max_leaf_nodes=None,\n",
    "            min_impurity_decrease=0.0, min_impurity_split=None,\n",
    "            min_samples_leaf=1, min_samples_split=3,\n",
    "            min_weight_fraction_leaf=0.0, presort=False, random_state=None,\n",
    "            splitter='best')\n",
    "\n",
    "modelRF = RandomForestClassifier(bootstrap=True, class_weight=None, criterion='gini',\n",
    "            max_depth=10, max_features='auto', max_leaf_nodes=None,\n",
    "            min_impurity_decrease=0.0, min_impurity_split=None,\n",
    "            min_samples_leaf=1, min_samples_split=3,\n",
    "            min_weight_fraction_leaf=0.0, n_estimators=10, n_jobs=1,\n",
    "            oob_score=False, random_state=None, verbose=0,\n",
    "            warm_start=False)\n",
    "\n",
    "modelSVC = SVC(C=10.0, cache_size=200, class_weight=None, coef0=0.0,\n",
    "  decision_function_shape='ovr', degree=3, gamma='auto', kernel='linear',    #this has to be linear for RFE to work further below\n",
    "  max_iter=-1, probability=False, random_state=None, shrinking=True,\n",
    "  tol=0.001, verbose=False)\n",
    "\n",
    "modelKNN = KNeighborsClassifier (n_neighbors = 5)"
   ]
  },
  {
   "cell_type": "code",
   "execution_count": 14,
   "metadata": {
    "collapsed": true
   },
   "outputs": [],
   "source": [
    "# class sklearn.feature_selection.RFE(estimator, n_features_to_select=None, step=1, verbose=0)[source]\n",
    "rfe_tree = RFE(modelTree, 50)"
   ]
  },
  {
   "cell_type": "code",
   "execution_count": 15,
   "metadata": {
    "collapsed": true
   },
   "outputs": [],
   "source": [
    "modelTree = rfe_tree.fit(X_train,y_train)             "
   ]
  },
  {
   "cell_type": "code",
   "execution_count": 16,
   "metadata": {
    "collapsed": false
   },
   "outputs": [
    {
     "name": "stdout",
     "output_type": "stream",
     "text": [
      "[False False False False False False False False False False False  True\n",
      "  True  True  True  True  True  True  True  True  True  True  True  True\n",
      "  True  True  True  True  True  True  True  True  True  True  True  True\n",
      " False False False False False False False False False False False False\n",
      " False False False False False False False False False False False False\n",
      " False False False False False False False False False False False  True\n",
      "  True  True  True  True  True  True  True  True  True  True  True  True\n",
      "  True  True  True  True  True  True  True  True  True  True  True  True]\n",
      "[47 46 45 44 43 42 41 40 39 38 37  1  1  1  1  1  1  1  1  1  1  1  1  1  1\n",
      "  1  1  1  1  1  1  1  1  1  1  1  3  5  7  9 11 13 15 17 19 21 23 25 27 29\n",
      " 31 33 35 36 34 32 30 28 26 24 22 20 18 16 14 12 10  8  6  4  2  1  1  1  1\n",
      "  1  1  1  1  1  1  1  1  1  1  1  1  1  1  1  1  1  1  1  1  1]\n"
     ]
    }
   ],
   "source": [
    "# print summaries for the selection of attributes\n",
    "print(modelTree.support_)\n",
    "print(modelTree.ranking_)"
   ]
  },
  {
   "cell_type": "code",
   "execution_count": 17,
   "metadata": {
    "collapsed": true
   },
   "outputs": [],
   "source": [
    "# class sklearn.feature_selection.RFE(estimator, n_features_to_select=None, step=1, verbose=0)[source]\n",
    "rfe_RF = RFE(modelRF, 50)"
   ]
  },
  {
   "cell_type": "code",
   "execution_count": 18,
   "metadata": {
    "collapsed": true
   },
   "outputs": [],
   "source": [
    "modelRF = rfe_RF.fit(X_train,y_train)"
   ]
  },
  {
   "cell_type": "code",
   "execution_count": 19,
   "metadata": {
    "collapsed": false
   },
   "outputs": [
    {
     "name": "stdout",
     "output_type": "stream",
     "text": [
      "[ True  True  True  True  True  True  True  True  True  True  True  True\n",
      "  True  True False  True  True  True False False False False  True  True\n",
      "  True  True  True  True False  True  True False False False False  True\n",
      "  True  True  True  True False False False False False False  True  True\n",
      " False  True  True False False False False False  True  True False  True\n",
      "  True False False False False False  True  True  True False  True False\n",
      " False False False False False False  True  True  True  True False False\n",
      " False False False  True  True  True  True False False False False False]\n",
      "[ 1  1  1  1  1  1  1  1  1  1  1  1  1  1 42  1  1  1 23 13 19 14  1  1  1\n",
      "  1  1  1 47  1  1  2 39 35 15  1  1  1  1  1  7 20 29 40 34 17  1  1 21  1\n",
      "  1  5 41 22 44  6  1  1 33  1  1 18 30 31 32 38  1  1  1 36  1 10 11 12 37\n",
      " 16 26  8  1  1  1  1  4 24 27  9 28  1  1  1  1  3 25 43 45 46]\n"
     ]
    }
   ],
   "source": [
    "# print summaries for the selection of attributes\n",
    "print(modelRF.support_)\n",
    "print(modelRF.ranking_)"
   ]
  },
  {
   "cell_type": "code",
   "execution_count": 20,
   "metadata": {
    "collapsed": true
   },
   "outputs": [],
   "source": [
    "# class sklearn.feature_selection.RFE(estimator, n_features_to_select=None, step=1, verbose=0)[source]\n",
    "rfe_SVC = RFE(modelSVC, 50)"
   ]
  },
  {
   "cell_type": "code",
   "execution_count": 21,
   "metadata": {
    "collapsed": true
   },
   "outputs": [],
   "source": [
    "scaling = MinMaxScaler(feature_range=(-1,1)).fit(X_train)   # use this specifically for SVC to speed up processing (see imports)\n",
    "X_train_SVC = scaling.transform(X_train)\n",
    "X_test_SVC = scaling.transform(X_test)                      # use this for the test set further below"
   ]
  },
  {
   "cell_type": "code",
   "execution_count": 22,
   "metadata": {
    "collapsed": false
   },
   "outputs": [],
   "source": [
    "modelSVC = rfe_SVC.fit(X_train_SVC,y_train)"
   ]
  },
  {
   "cell_type": "code",
   "execution_count": 23,
   "metadata": {
    "collapsed": false
   },
   "outputs": [
    {
     "name": "stdout",
     "output_type": "stream",
     "text": [
      "[ True  True  True  True  True  True  True  True  True  True  True  True\n",
      "  True  True False  True  True  True False False False False  True  True\n",
      " False  True  True False False  True  True False  True False  True  True\n",
      "  True  True False  True  True False False False False  True  True False\n",
      " False  True False False False False False  True  True  True False  True\n",
      " False  True False False False False False  True  True False  True  True\n",
      "  True False False  True False  True  True  True False False  True False\n",
      " False False False  True False  True False False False False False False]\n",
      "[ 1  1  1  1  1  1  1  1  1  1  1  1  1  1 35  1  1  1 43 32 25 44  1  1 47\n",
      "  1  1  3 40  1  1  2  1 34  1  1  1  1  4  1  1 19 22 39 29  1  1  9 46  1\n",
      " 24  8 15 36 18  1  1  1 38  1  7  1 26 37 12 33 23  1  1 41  1  1  1 17 10\n",
      "  1 45  1  1  1 28  5  1 13 30 16 31  1 20  1 21 14 11  6 42 27]\n"
     ]
    }
   ],
   "source": [
    "# print summaries for the selection of attributes\n",
    "print(modelSVC.support_)\n",
    "print(modelSVC.ranking_)"
   ]
  },
  {
   "cell_type": "code",
   "execution_count": 24,
   "metadata": {
    "collapsed": false
   },
   "outputs": [
    {
     "data": {
      "text/plain": [
       "KNeighborsClassifier(algorithm='auto', leaf_size=30, metric='minkowski',\n",
       "           metric_params=None, n_jobs=1, n_neighbors=5, p=2,\n",
       "           weights='uniform')"
      ]
     },
     "execution_count": 24,
     "metadata": {},
     "output_type": "execute_result"
    }
   ],
   "source": [
    "modelKNN.fit (X_train, y_train)                    # not using RFE with KNN"
   ]
  },
  {
   "cell_type": "code",
   "execution_count": null,
   "metadata": {
    "collapsed": true
   },
   "outputs": [],
   "source": [
    "# Rate each model\n",
    "#These values correspond to the the following:\n",
    "#1st value:  The score array for test scores on each cv split. (Higher is an indicator of a better performing model)\n",
    "#2nd value: The time for fitting the estimator on the train set for each cv split.\n",
    "#3rd Value:  The time for scoring the estimator on the test set for each cv split."
   ]
  },
  {
   "cell_type": "code",
   "execution_count": 25,
   "metadata": {
    "collapsed": false
   },
   "outputs": [
    {
     "name": "stdout",
     "output_type": "stream",
     "text": [
      "[ 0.99928571  0.99271429  0.99957143]\n"
     ]
    }
   ],
   "source": [
    "print(cross_val_score(modelRF, X_train, y_train))     # Random Forest"
   ]
  },
  {
   "cell_type": "code",
   "execution_count": 26,
   "metadata": {
    "collapsed": false
   },
   "outputs": [
    {
     "name": "stdout",
     "output_type": "stream",
     "text": [
      "[ 1.  1.  1.]\n"
     ]
    }
   ],
   "source": [
    "print(cross_val_score(modelTree, X_train, y_train))   # Decision Tree"
   ]
  },
  {
   "cell_type": "code",
   "execution_count": 27,
   "metadata": {
    "collapsed": false
   },
   "outputs": [
    {
     "name": "stdout",
     "output_type": "stream",
     "text": [
      "[ 1.  1.  1.]\n"
     ]
    }
   ],
   "source": [
    "print(cross_val_score(modelSVC, X_train_SVC, y_train))    # SVC (note that it is X_train_SVC (after transformation, above))"
   ]
  },
  {
   "cell_type": "code",
   "execution_count": 28,
   "metadata": {
    "collapsed": false
   },
   "outputs": [
    {
     "name": "stdout",
     "output_type": "stream",
     "text": [
      "[ 0.75557143  0.75128571  0.75414286]\n"
     ]
    }
   ],
   "source": [
    "print(cross_val_score(modelKNN, X_train, y_train))   # KNN"
   ]
  },
  {
   "cell_type": "code",
   "execution_count": 29,
   "metadata": {
    "collapsed": false
   },
   "outputs": [
    {
     "name": "stdout",
     "output_type": "stream",
     "text": [
      "Test set predictions: [0 0 1 ..., 0 0 0]\n"
     ]
    }
   ],
   "source": [
    "PredDecTree = modelTree.predict(X_test)                        # Decision Tree\n",
    "print (\"Test set predictions: {}\".format(PredDecTree))"
   ]
  },
  {
   "cell_type": "code",
   "execution_count": 30,
   "metadata": {
    "collapsed": false
   },
   "outputs": [
    {
     "name": "stdout",
     "output_type": "stream",
     "text": [
      "Test set accuracy: 1.00\n"
     ]
    }
   ],
   "source": [
    "#Evaluate the model\n",
    "Dtreeaccuracy = modelTree.score(X_test, y_test)                # Decision Tree\n",
    "print (\"Test set accuracy: {:.2f}\".format(Dtreeaccuracy))"
   ]
  },
  {
   "cell_type": "code",
   "execution_count": 31,
   "metadata": {
    "collapsed": false
   },
   "outputs": [
    {
     "name": "stdout",
     "output_type": "stream",
     "text": [
      "=== Confusion Matrix ===\n",
      "[[6981    0]\n",
      " [   0 2019]]\n",
      "\n",
      "\n",
      "=== Classification Report ===\n",
      "             precision    recall  f1-score   support\n",
      "\n",
      "          0       1.00      1.00      1.00      6981\n",
      "          1       1.00      1.00      1.00      2019\n",
      "\n",
      "avg / total       1.00      1.00      1.00      9000\n",
      "\n",
      "\n",
      "\n",
      "=== All AUC Scores ===\n",
      "[ 1.  1.  1.  1.  1.  1.  1.  1.  1.  1.]\n",
      "\n",
      "\n",
      "=== Mean AUC Score ===\n",
      "Mean AUC Score - Decision Tree:  1.0\n"
     ]
    }
   ],
   "source": [
    "# Evaluating performance of Decision Tree\n",
    "DT_cv_score = cross_val_score(modelTree, X_test, y_test, cv=10, scoring='roc_auc')\n",
    "\n",
    "print(\"=== Confusion Matrix ===\")\n",
    "print(confusion_matrix(y_test, PredDecTree))\n",
    "print('\\n')\n",
    "\n",
    "print(\"=== Classification Report ===\")\n",
    "print(classification_report(y_test, PredDecTree))\n",
    "print('\\n')\n",
    "\n",
    "print(\"=== All AUC Scores ===\")\n",
    "\n",
    "print(DT_cv_score)\n",
    "print('\\n')\n",
    "\n",
    "print(\"=== Mean AUC Score ===\")\n",
    "print(\"Mean AUC Score - Decision Tree: \", DT_cv_score.mean())"
   ]
  },
  {
   "cell_type": "code",
   "execution_count": 32,
   "metadata": {
    "collapsed": false
   },
   "outputs": [
    {
     "data": {
      "image/png": "[encoded data removed]",
      "text/plain": [
       "<matplotlib.figure.Figure at 0x2e76d4c7550>"
      ]
     },
     "metadata": {},
     "output_type": "display_data"
    }
   ],
   "source": [
    "# Plot Decision Tree results\n",
    "\n",
    "plt.bar(y_test, PredDecTree, color=['blue','green'], width=0.1, alpha = 0.5)\n",
    "plt.xlabel('Ground Truth')\n",
    "plt.ylabel('Predictions')\n",
    "plt.title (\"Decision Tree (Ground Truth vs. Prediction)\")\n",
    "plt.show();"
   ]
  },
  {
   "cell_type": "code",
   "execution_count": 33,
   "metadata": {
    "collapsed": false
   },
   "outputs": [
    {
     "name": "stdout",
     "output_type": "stream",
     "text": [
      "Test set predictions: [0 0 1 ..., 0 0 0]\n"
     ]
    }
   ],
   "source": [
    "PredRF = modelRF.predict(X_test)                            # Random Forest\n",
    "print (\"Test set predictions: {}\".format(PredRF))"
   ]
  },
  {
   "cell_type": "code",
   "execution_count": 34,
   "metadata": {
    "collapsed": false
   },
   "outputs": [
    {
     "name": "stdout",
     "output_type": "stream",
     "text": [
      "Test set accuracy: 1.00\n"
     ]
    }
   ],
   "source": [
    "#Evaluate the model                                          # Random Forest\n",
    "RFaccuracy = modelRF.score(X_test, y_test)\n",
    "print (\"Test set accuracy: {:.2f}\".format(RFaccuracy))"
   ]
  },
  {
   "cell_type": "code",
   "execution_count": 35,
   "metadata": {
    "collapsed": false
   },
   "outputs": [
    {
     "name": "stdout",
     "output_type": "stream",
     "text": [
      "=== Confusion Matrix ===\n",
      "[[6981    0]\n",
      " [   0 2019]]\n",
      "\n",
      "\n",
      "=== Classification Report ===\n",
      "             precision    recall  f1-score   support\n",
      "\n",
      "          0       1.00      1.00      1.00      6981\n",
      "          1       1.00      1.00      1.00      2019\n",
      "\n",
      "avg / total       1.00      1.00      1.00      9000\n",
      "\n",
      "\n",
      "\n",
      "=== All AUC Scores ===\n",
      "[ 1.          1.          1.          1.          1.          1.          1.\n",
      "  0.99990071  1.          1.        ]\n",
      "\n",
      "\n",
      "=== Mean AUC Score ===\n",
      "Mean AUC Score - Random Forest:  0.99999007064\n"
     ]
    }
   ],
   "source": [
    "# Evaluating performance of Random Forest\n",
    "rfc_cv_score = cross_val_score(modelRF, X_test, y_test, cv=10, scoring='roc_auc')\n",
    "\n",
    "print(\"=== Confusion Matrix ===\")\n",
    "print(confusion_matrix(y_test, PredRF))\n",
    "print('\\n')\n",
    "\n",
    "print(\"=== Classification Report ===\")\n",
    "print(classification_report(y_test, PredRF))\n",
    "print('\\n')\n",
    "\n",
    "print(\"=== All AUC Scores ===\")\n",
    "\n",
    "print(rfc_cv_score)\n",
    "print('\\n')\n",
    "\n",
    "print(\"=== Mean AUC Score ===\")\n",
    "print(\"Mean AUC Score - Random Forest: \", rfc_cv_score.mean())"
   ]
  },
  {
   "cell_type": "code",
   "execution_count": 36,
   "metadata": {
    "collapsed": false
   },
   "outputs": [
    {
     "data": {
      "image/png": "[encoded data removed]",
      "text/plain": [
       "<matplotlib.figure.Figure at 0x2e76eb780f0>"
      ]
     },
     "metadata": {},
     "output_type": "display_data"
    }
   ],
   "source": [
    "# Plot RF results\n",
    "\n",
    "plt.bar(y_test, PredRF, color=['blue','green'], width=0.1, alpha = 0.5)\n",
    "plt.xlabel('Ground Truth')\n",
    "plt.ylabel('Predictions')\n",
    "plt.title (\"Random Forest (Ground Truth vs. Prediction)\")\n",
    "plt.show();"
   ]
  },
  {
   "cell_type": "code",
   "execution_count": 37,
   "metadata": {
    "collapsed": false
   },
   "outputs": [
    {
     "name": "stdout",
     "output_type": "stream",
     "text": [
      "Test set predictions: [0 0 1 ..., 0 0 0]\n"
     ]
    }
   ],
   "source": [
    "PredSVC = modelSVC.predict(X_test_SVC)                            # SVC (note usage of X_test_SVC (after transformation, above))\n",
    "print (\"Test set predictions: {}\".format(PredSVC))"
   ]
  },
  {
   "cell_type": "code",
   "execution_count": 38,
   "metadata": {
    "collapsed": false
   },
   "outputs": [
    {
     "name": "stdout",
     "output_type": "stream",
     "text": [
      "Test set accuracy: 1.00\n"
     ]
    }
   ],
   "source": [
    "#Evaluate the model                                           # SVC\n",
    "SVCaccuracy = modelSVC.score(X_test_SVC, y_test)\n",
    "print (\"Test set accuracy: {:.2f}\".format(SVCaccuracy))"
   ]
  },
  {
   "cell_type": "code",
   "execution_count": 39,
   "metadata": {
    "collapsed": false
   },
   "outputs": [
    {
     "name": "stdout",
     "output_type": "stream",
     "text": [
      "=== Confusion Matrix ===\n",
      "[[6981    0]\n",
      " [   0 2019]]\n",
      "\n",
      "\n",
      "=== Classification Report ===\n",
      "             precision    recall  f1-score   support\n",
      "\n",
      "          0       1.00      1.00      1.00      6981\n",
      "          1       1.00      1.00      1.00      2019\n",
      "\n",
      "avg / total       1.00      1.00      1.00      9000\n",
      "\n",
      "\n",
      "\n",
      "=== All AUC Scores ===\n",
      "[ 1.  1.  1.  1.  1.  1.  1.  1.  1.  1.]\n",
      "\n",
      "\n",
      "=== Mean AUC Score ===\n",
      "Mean AUC Score - SVM-SVC:  1.0\n"
     ]
    }
   ],
   "source": [
    "# Evaluating performance of SVM/SVC\n",
    "\n",
    "SVC_cv_score = cross_val_score(modelSVC, X_test_SVC, y_test, cv=10, scoring='roc_auc')\n",
    "\n",
    "print(\"=== Confusion Matrix ===\")\n",
    "print(confusion_matrix(y_test, PredSVC))\n",
    "print('\\n')\n",
    "\n",
    "print(\"=== Classification Report ===\")\n",
    "print(classification_report(y_test, PredSVC))\n",
    "print('\\n')\n",
    "\n",
    "print(\"=== All AUC Scores ===\")\n",
    "\n",
    "print(SVC_cv_score)\n",
    "print('\\n')\n",
    "\n",
    "print(\"=== Mean AUC Score ===\")\n",
    "print(\"Mean AUC Score - SVM-SVC: \", SVC_cv_score.mean())"
   ]
  },
  {
   "cell_type": "code",
   "execution_count": 40,
   "metadata": {
    "collapsed": false
   },
   "outputs": [
    {
     "data": {
      "image/png": "[encoded data removed]",
      "text/plain": [
       "<matplotlib.figure.Figure at 0x2e76eb673c8>"
      ]
     },
     "metadata": {},
     "output_type": "display_data"
    }
   ],
   "source": [
    "# Plot SVC results\n",
    "\n",
    "plt.bar(y_test, PredSVC, color=['blue','green'], width=0.1, alpha = 0.5)\n",
    "plt.xlabel('Ground Truth')\n",
    "plt.ylabel('Predictions')\n",
    "plt.title (\"SVC (Ground Truth vs. Prediction)\")\n",
    "plt.show();"
   ]
  },
  {
   "cell_type": "code",
   "execution_count": 41,
   "metadata": {
    "collapsed": false
   },
   "outputs": [
    {
     "name": "stdout",
     "output_type": "stream",
     "text": [
      "Test set predictions: [0 0 0 ..., 0 0 0]\n"
     ]
    }
   ],
   "source": [
    "PredKNN = modelKNN.predict(X_test)                         # KNN\n",
    "print (\"Test set predictions: {}\".format(PredKNN))"
   ]
  },
  {
   "cell_type": "code",
   "execution_count": 42,
   "metadata": {
    "collapsed": false
   },
   "outputs": [
    {
     "name": "stdout",
     "output_type": "stream",
     "text": [
      "Test set accuracy: 0.76\n"
     ]
    }
   ],
   "source": [
    "#Evaluate the model\n",
    "KNNaccuracy = modelKNN.score(X_test, y_test)               # KNN\n",
    "print (\"Test set accuracy: {:.2f}\".format(KNNaccuracy))"
   ]
  },
  {
   "cell_type": "code",
   "execution_count": 43,
   "metadata": {
    "collapsed": false
   },
   "outputs": [
    {
     "name": "stdout",
     "output_type": "stream",
     "text": [
      "=== Confusion Matrix ===\n",
      "[[6430  551]\n",
      " [1646  373]]\n",
      "\n",
      "\n",
      "=== Classification Report ===\n",
      "             precision    recall  f1-score   support\n",
      "\n",
      "          0       0.80      0.92      0.85      6981\n",
      "          1       0.40      0.18      0.25      2019\n",
      "\n",
      "avg / total       0.71      0.76      0.72      9000\n",
      "\n",
      "\n",
      "\n",
      "=== All AUC Scores ===\n",
      "[ 0.62302228  0.58339953  0.59355585  0.56820052  0.60781157  0.6196807\n",
      "  0.62679083  0.58894579  0.6053576   0.62632753]\n",
      "\n",
      "\n",
      "=== Mean AUC Score ===\n",
      "Mean AUC Score - KNN:  0.604309218784\n"
     ]
    }
   ],
   "source": [
    "# Evaluating performance of KNN\n",
    "\n",
    "KNN_cv_score = cross_val_score(modelKNN, X_test, y_test, cv=10, scoring='roc_auc')\n",
    "\n",
    "print(\"=== Confusion Matrix ===\")\n",
    "print(confusion_matrix(y_test, PredKNN))\n",
    "print('\\n')\n",
    "\n",
    "print(\"=== Classification Report ===\")\n",
    "print(classification_report(y_test, PredKNN))\n",
    "print('\\n')\n",
    "\n",
    "print(\"=== All AUC Scores ===\")\n",
    "\n",
    "print(KNN_cv_score)\n",
    "print('\\n')\n",
    "\n",
    "print(\"=== Mean AUC Score ===\")\n",
    "print(\"Mean AUC Score - KNN: \", KNN_cv_score.mean())"
   ]
  },
  {
   "cell_type": "code",
   "execution_count": 44,
   "metadata": {
    "collapsed": false
   },
   "outputs": [
    {
     "data": {
      "image/png": "[encoded data removed]",
      "text/plain": [
       "<matplotlib.figure.Figure at 0x2e77f2adef0>"
      ]
     },
     "metadata": {},
     "output_type": "display_data"
    }
   ],
   "source": [
    "# Plot KNN results\n",
    "\n",
    "plt.bar(y_test, PredKNN, color=['blue','green'], width=0.1, alpha = 0.5)\n",
    "plt.xlabel('Ground Truth')\n",
    "plt.ylabel('Predictions')\n",
    "plt.title (\"KNN (Ground Truth vs. Prediction)\")\n",
    "plt.show();"
   ]
  }
 ],
 "metadata": {
  "anaconda-cloud": {},
  "kernelspec": {
   "display_name": "Python [Root]",
   "language": "python",
   "name": "Python [Root]"
  },
  "language_info": {
   "codemirror_mode": {
    "name": "ipython",
    "version": 3
   },
   "file_extension": ".py",
   "mimetype": "text/x-python",
   "name": "python",
   "nbconvert_exporter": "python",
   "pygments_lexer": "ipython3",
   "version": "3.5.2"
  }
 },
 "nbformat": 4,
 "nbformat_minor": 0
}
